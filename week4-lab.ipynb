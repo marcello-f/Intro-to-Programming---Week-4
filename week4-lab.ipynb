{
 "cells": [
  {
   "cell_type": "code",
   "execution_count": 1,
   "metadata": {},
   "outputs": [],
   "source": [
    "import numpy as np\n",
    "from sympy import prime"
   ]
  },
  {
   "cell_type": "markdown",
   "metadata": {},
   "source": [
    "### Exercise 1: Comparing the Arithmetic, Harmonic, and Geometric Means"
   ]
  },
  {
   "cell_type": "markdown",
   "metadata": {},
   "source": [
    "In the lecture, we saw how to define a function computing the average (also called arithmetic mean) $$\\frac1n\\sum_{k=1}^nx_k$$ of a sequence of numbers $x_1,x_2,\\ldots,x_n$. I am writing this here slightly different than in the lecture."
   ]
  },
  {
   "cell_type": "code",
   "execution_count": 2,
   "metadata": {},
   "outputs": [
    {
     "name": "stdout",
     "output_type": "stream",
     "text": [
      "The arithmetic mean of the list [1, 2, 3, 4, 5] is: 3.0\n",
      "The arithmetic mean of the list [5, 10, 15, 20, 25] is: 15.0\n",
      "The arithmetic mean of the list [20, 40, 60, 80, 100] is: 60.0\n"
     ]
    }
   ],
   "source": [
    "def arithmetic_mean(x): \n",
    "    \"Compute the average of the values in the sequence x.\" \n",
    "    n=len(x)\n",
    "    return sum(x)/n\n",
    "\n",
    "x = [1,2,3,4,5]\n",
    "y = [5,10,15,20,25]\n",
    "z = [20,40,60,80,100]\n",
    "\n",
    "for i in [x,y,z]:\n",
    "    print(f'The arithmetic mean of the list {i} is: {arithmetic_mean(i):}')"
   ]
  },
  {
   "cell_type": "markdown",
   "metadata": {},
   "source": [
    "#### Exercise 1.a: Define two functions computing the harmonic mean $$\\frac n{\\sum\\limits_{k=1}^n\\dfrac1{x_k}}$$ and the geometric mean $$\\sqrt[n]{\\prod_{k=1}^nx_k}$$ of a sequence of positive numbers $x_1,x_2,\\ldots,x_n$. (Remember that you can access individual entries of a list `lst` by their index `i` by writing `lst[i]`.)"
   ]
  },
  {
   "cell_type": "code",
   "execution_count": 3,
   "metadata": {},
   "outputs": [
    {
     "name": "stdout",
     "output_type": "stream",
     "text": [
      "The harmonic mean of the list [1, 2, 3, 4, 5] is: 2.18978102189781\n",
      "The harmonic mean of the list [5, 10, 15, 20, 25] is: 10.94890510948905\n",
      "The harmonic mean of the list [20, 40, 60, 80, 100] is: 43.7956204379562\n"
     ]
    }
   ],
   "source": [
    "def harmonic_mean(x):\n",
    "    n = len(x)\n",
    "    harmonic_sum = sum([1/x[k] for k in range(n)])\n",
    "    return n/harmonic_sum\n",
    "\n",
    "x = [1,2,3,4,5]\n",
    "y = [5,10,15,20,25]\n",
    "z = [20,40,60,80,100]\n",
    "\n",
    "for i in [x,y,z]:\n",
    "    print(f'The harmonic mean of the list {i} is: {harmonic_mean(i):}')"
   ]
  },
  {
   "cell_type": "code",
   "execution_count": 4,
   "metadata": {},
   "outputs": [
    {
     "name": "stdout",
     "output_type": "stream",
     "text": [
      "The geometric mean of the list [1, 2, 3, 4, 5] is: 2.605171084697352\n",
      "The geometric mean of the list [5, 10, 15, 20, 25] is: 13.025855423486762\n",
      "The geometric mean of the list [20, 40, 60, 80, 100] is: 52.10342169394705\n"
     ]
    }
   ],
   "source": [
    "def geometric_mean(x):\n",
    "    n = len(x)\n",
    "    geometric_product = np.prod(x)\n",
    "    return geometric_product**(1/n)\n",
    "\n",
    "x = [1,2,3,4,5]\n",
    "y = [5,10,15,20,25]\n",
    "z = [20,40,60,80,100]\n",
    "\n",
    "for i in [x,y,z]:\n",
    "    print(f'The geometric mean of the list {i} is: {geometric_mean(i):}')"
   ]
  },
  {
   "cell_type": "markdown",
   "metadata": {},
   "source": [
    "#### Exercise 1.b: With numerical experimentation (i.e. by plugging in a few sequences of numbers), compare the sizes of these three means. Which one seems biggest, which one smallest?"
   ]
  },
  {
   "cell_type": "markdown",
   "metadata": {
    "scrolled": true
   },
   "source": [
    "Through numerical experimentation it seems that the smallest mean is the harmonic, whilst the arithmetic is the biggest."
   ]
  },
  {
   "cell_type": "markdown",
   "metadata": {},
   "source": []
  },
  {
   "cell_type": "markdown",
   "metadata": {},
   "source": [
    "### Exercise 2: Series Summation made Easier with Functions"
   ]
  },
  {
   "cell_type": "markdown",
   "metadata": {},
   "source": [
    "Now that we have introduced functions, we can also simplify the code from previous weeks considerably. Consider for example your work on computing the Riemann Zeta function $$\\zeta(s)=\\sum_{n=1}^\\infty\\frac1{n^s}\\;.$$ \n",
    "You already simplified your code considerably by using variable assignment, list comprehension, and the `sum()` function, writing code like the following to compute the $100$-th partial sum of the series for $\\zeta(2)$."
   ]
  },
  {
   "cell_type": "code",
   "execution_count": 5,
   "metadata": {},
   "outputs": [
    {
     "name": "stdout",
     "output_type": "stream",
     "text": [
      "1.6349839001848923\n"
     ]
    }
   ],
   "source": [
    "s=2\n",
    "print(sum([1/n**s for n in range(1,101)]))"
   ]
  },
  {
   "cell_type": "markdown",
   "metadata": {},
   "source": [
    "But if I asked you to now do this computation for the $n$-th partial sum of the series of $\\zeta(s)$ for several values of $n$ and $s$, you would not want to repeatedly type the same bit of code (as you will likely have done last week). So let us define a function instead."
   ]
  },
  {
   "cell_type": "code",
   "execution_count": 6,
   "metadata": {},
   "outputs": [],
   "source": [
    "def zeta_sum(s,N):\n",
    "    \"Compute the N-th partial sum of the zeta function at s\"\n",
    "    terms=[n**-s for n in range(1,N+1)]\n",
    "    partial_sum=sum(terms)\n",
    "    return partial_sum"
   ]
  },
  {
   "cell_type": "markdown",
   "metadata": {},
   "source": [
    "Now you can easily repeat last week's Exercise 4 using this function."
   ]
  },
  {
   "cell_type": "code",
   "execution_count": 7,
   "metadata": {},
   "outputs": [
    {
     "name": "stdout",
     "output_type": "stream",
     "text": [
      "1.6349839001848923\n",
      "1.6399465460149971\n",
      "1.6424371892440628\n",
      "1.6449340668482264\n"
     ]
    }
   ],
   "source": [
    "print(zeta_sum(2,100))\n",
    "print(zeta_sum(2,200))\n",
    "print(zeta_sum(2,400))\n",
    "print(np.pi**2/6)"
   ]
  },
  {
   "cell_type": "markdown",
   "metadata": {},
   "source": [
    "I think you will agree that this code is an improvement over what you were doing last week and convinces you that Python functions are useful."
   ]
  },
  {
   "cell_type": "markdown",
   "metadata": {},
   "source": [
    "#### Exercise 2.a: Write a function for the partial product of the Riemann zeta function, using the function name `zeta_prod`."
   ]
  },
  {
   "cell_type": "code",
   "execution_count": 32,
   "metadata": {},
   "outputs": [],
   "source": [
    "from sympy import prime\n",
    "import scipy.special\n",
    "zeta=scipy.special.zeta\n",
    "import math\n",
    "\n",
    "def zeta_prod(s, N):\n",
    "    primes_list = []\n",
    "\n",
    "    for n in range(2, N+1):         \n",
    "        primes_list.append(prime(n))\n",
    "\n",
    "    product = 1/(1-2**(-s))\n",
    "    \n",
    "    for p in primes_list:\n",
    "        b = 1 / (1-p**(-s))\n",
    "        product = product * b\n",
    "    \n",
    "    return product"
   ]
  },
  {
   "cell_type": "markdown",
   "metadata": {},
   "source": [
    "#### Exercise 2.b: Using the function you have just defined, compute the $100$th, $200$th and $400$th partial products for $s=2,3,4$, and compare against the exact values of $\\zeta(s)$."
   ]
  },
  {
   "cell_type": "code",
   "execution_count": 33,
   "metadata": {},
   "outputs": [
    {
     "name": "stdout",
     "output_type": "stream",
     "text": [
      "The 100th partial product for s = 2 is 1.6445152217242918\n",
      "The 100th partial product for s = 3 is 1.2020566021795083\n",
      "The 100th partial product for s = 4 is 1.082323233369198\n",
      "\n",
      "\n",
      "The 200th partial product for s = 2 is 1.6447685061588626\n",
      "The 200th partial product for s = 3 is 1.2020568511172716\n",
      "The 200th partial product for s = 4 is 1.0823232336851547\n",
      "\n",
      "\n",
      "The 400th partial product for s = 2 is 1.644867084167859\n",
      "The 400th partial product for s = 3 is 1.202056893843724\n",
      "The 400th partial product for s = 4 is 1.0823232337090953\n",
      "\n",
      "\n",
      "The exact value of the Riemann zeta fucntion at s = 2 is: 1.6449340668482264\n",
      "The exact value of the Riemann zeta fucntion at s = 3 is: 1.2020569031595942\n",
      "The exact value of the Riemann zeta fucntion at s = 4 is: 1.082323233711138\n"
     ]
    }
   ],
   "source": [
    "for r in [100,200,400]:\n",
    "    print(f'The {r}th partial product for s = 2 is ' + str(zeta_prod(2, r)))\n",
    "    print(f'The {r}th partial product for s = 3 is ' + str(zeta_prod(3, r)))\n",
    "    print(f'The {r}th partial product for s = 4 is ' + str(zeta_prod(4, r)))\n",
    "    print('\\n') \n",
    "\n",
    "print('The exact value of the Riemann zeta fucntion at s = 2 is: ' + str((math.pi**2)/6))\n",
    "print('The exact value of the Riemann zeta fucntion at s = 3 is: ' + str(zeta(3)))\n",
    "print('The exact value of the Riemann zeta fucntion at s = 4 is: ' + str((math.pi**4)/90))"
   ]
  },
  {
   "cell_type": "markdown",
   "metadata": {},
   "source": [
    "### Exercise 3: Zipping and Unzipping."
   ]
  },
  {
   "cell_type": "markdown",
   "metadata": {},
   "source": [
    "You have encountered the built-in function `zip()` which takes two lists of the same length and returns a list of paired tuples."
   ]
  },
  {
   "cell_type": "code",
   "execution_count": 48,
   "metadata": {},
   "outputs": [
    {
     "data": {
      "text/plain": [
       "[(1, 'a'), (2, 'b'), (3, 'c'), (4, 'd')]"
      ]
     },
     "execution_count": 48,
     "metadata": {},
     "output_type": "execute_result"
    }
   ],
   "source": [
    "list(zip([1,2,3,4],['a','b','c','d']))"
   ]
  },
  {
   "cell_type": "markdown",
   "metadata": {},
   "source": [
    "#### Exercise 3.a: Write your own version of this function (without using the built-in one).  Test your function on `[1,2,3,4]` and `['a','b','c','d']`. "
   ]
  },
  {
   "cell_type": "code",
   "execution_count": 49,
   "metadata": {
    "scrolled": true
   },
   "outputs": [
    {
     "data": {
      "text/plain": [
       "[(1, 'a'), (2, 'b'), (3, 'c'), (4, 'd')]"
      ]
     },
     "execution_count": 49,
     "metadata": {},
     "output_type": "execute_result"
    }
   ],
   "source": [
    "def zzip(x, y):\n",
    "    return [(x[n], y[n]) for n in range(len(x))]\n",
    "\n",
    "x = [1,2,3,4]\n",
    "y = ['a','b','c','d']\n",
    "\n",
    "zzip(x,y)"
   ]
  },
  {
   "cell_type": "markdown",
   "metadata": {},
   "source": [
    "If the sequences are of different length, you will likely get a  `list index out of range` error."
   ]
  },
  {
   "cell_type": "markdown",
   "metadata": {},
   "source": [
    "#### Exercise 3.b: Test your function also on `[1,2,3]` and `['a','b','c','d']`, and also on `[1,2,3,4]` and `['a','b','c']`."
   ]
  },
  {
   "cell_type": "code",
   "execution_count": 53,
   "metadata": {},
   "outputs": [
    {
     "data": {
      "text/plain": [
       "[(1, 'a'), (2, 'b'), (3, 'c')]"
      ]
     },
     "execution_count": 53,
     "metadata": {},
     "output_type": "execute_result"
    }
   ],
   "source": [
    "def zzip(x, y):\n",
    "    return [(x[n], y[n]) for n in range(len(x))]\n",
    "\n",
    "x = [1,2,3]\n",
    "y = ['a','b','c','d']\n",
    "\n",
    "zzip(x,y)"
   ]
  },
  {
   "cell_type": "code",
   "execution_count": 51,
   "metadata": {},
   "outputs": [
    {
     "ename": "IndexError",
     "evalue": "list index out of range",
     "output_type": "error",
     "traceback": [
      "\u001b[1;31m---------------------------------------------------------------------------\u001b[0m",
      "\u001b[1;31mIndexError\u001b[0m                                Traceback (most recent call last)",
      "\u001b[1;32m<ipython-input-51-9b14776da75e>\u001b[0m in \u001b[0;36m<module>\u001b[1;34m\u001b[0m\n\u001b[0;32m      5\u001b[0m \u001b[0my\u001b[0m \u001b[1;33m=\u001b[0m \u001b[1;33m[\u001b[0m\u001b[1;34m'a'\u001b[0m\u001b[1;33m,\u001b[0m\u001b[1;34m'b'\u001b[0m\u001b[1;33m,\u001b[0m\u001b[1;34m'c'\u001b[0m\u001b[1;33m]\u001b[0m\u001b[1;33m\u001b[0m\u001b[1;33m\u001b[0m\u001b[0m\n\u001b[0;32m      6\u001b[0m \u001b[1;33m\u001b[0m\u001b[0m\n\u001b[1;32m----> 7\u001b[1;33m \u001b[0mzzip\u001b[0m\u001b[1;33m(\u001b[0m\u001b[0mx\u001b[0m\u001b[1;33m,\u001b[0m\u001b[0my\u001b[0m\u001b[1;33m)\u001b[0m\u001b[1;33m\u001b[0m\u001b[1;33m\u001b[0m\u001b[0m\n\u001b[0m",
      "\u001b[1;32m<ipython-input-51-9b14776da75e>\u001b[0m in \u001b[0;36mzzip\u001b[1;34m(x, y)\u001b[0m\n\u001b[0;32m      1\u001b[0m \u001b[1;32mdef\u001b[0m \u001b[0mzzip\u001b[0m\u001b[1;33m(\u001b[0m\u001b[0mx\u001b[0m\u001b[1;33m,\u001b[0m \u001b[0my\u001b[0m\u001b[1;33m)\u001b[0m\u001b[1;33m:\u001b[0m\u001b[1;33m\u001b[0m\u001b[1;33m\u001b[0m\u001b[0m\n\u001b[1;32m----> 2\u001b[1;33m     \u001b[1;32mreturn\u001b[0m \u001b[1;33m[\u001b[0m\u001b[1;33m(\u001b[0m\u001b[0mx\u001b[0m\u001b[1;33m[\u001b[0m\u001b[0mn\u001b[0m\u001b[1;33m]\u001b[0m\u001b[1;33m,\u001b[0m \u001b[0my\u001b[0m\u001b[1;33m[\u001b[0m\u001b[0mn\u001b[0m\u001b[1;33m]\u001b[0m\u001b[1;33m)\u001b[0m \u001b[1;32mfor\u001b[0m \u001b[0mn\u001b[0m \u001b[1;32min\u001b[0m \u001b[0mrange\u001b[0m\u001b[1;33m(\u001b[0m\u001b[0mlen\u001b[0m\u001b[1;33m(\u001b[0m\u001b[0mx\u001b[0m\u001b[1;33m)\u001b[0m\u001b[1;33m)\u001b[0m\u001b[1;33m]\u001b[0m\u001b[1;33m\u001b[0m\u001b[1;33m\u001b[0m\u001b[0m\n\u001b[0m\u001b[0;32m      3\u001b[0m \u001b[1;33m\u001b[0m\u001b[0m\n\u001b[0;32m      4\u001b[0m \u001b[0mx\u001b[0m \u001b[1;33m=\u001b[0m \u001b[1;33m[\u001b[0m\u001b[1;36m1\u001b[0m\u001b[1;33m,\u001b[0m\u001b[1;36m2\u001b[0m\u001b[1;33m,\u001b[0m\u001b[1;36m3\u001b[0m\u001b[1;33m,\u001b[0m\u001b[1;36m4\u001b[0m\u001b[1;33m]\u001b[0m\u001b[1;33m\u001b[0m\u001b[1;33m\u001b[0m\u001b[0m\n\u001b[0;32m      5\u001b[0m \u001b[0my\u001b[0m \u001b[1;33m=\u001b[0m \u001b[1;33m[\u001b[0m\u001b[1;34m'a'\u001b[0m\u001b[1;33m,\u001b[0m\u001b[1;34m'b'\u001b[0m\u001b[1;33m,\u001b[0m\u001b[1;34m'c'\u001b[0m\u001b[1;33m]\u001b[0m\u001b[1;33m\u001b[0m\u001b[1;33m\u001b[0m\u001b[0m\n",
      "\u001b[1;32m<ipython-input-51-9b14776da75e>\u001b[0m in \u001b[0;36m<listcomp>\u001b[1;34m(.0)\u001b[0m\n\u001b[0;32m      1\u001b[0m \u001b[1;32mdef\u001b[0m \u001b[0mzzip\u001b[0m\u001b[1;33m(\u001b[0m\u001b[0mx\u001b[0m\u001b[1;33m,\u001b[0m \u001b[0my\u001b[0m\u001b[1;33m)\u001b[0m\u001b[1;33m:\u001b[0m\u001b[1;33m\u001b[0m\u001b[1;33m\u001b[0m\u001b[0m\n\u001b[1;32m----> 2\u001b[1;33m     \u001b[1;32mreturn\u001b[0m \u001b[1;33m[\u001b[0m\u001b[1;33m(\u001b[0m\u001b[0mx\u001b[0m\u001b[1;33m[\u001b[0m\u001b[0mn\u001b[0m\u001b[1;33m]\u001b[0m\u001b[1;33m,\u001b[0m \u001b[0my\u001b[0m\u001b[1;33m[\u001b[0m\u001b[0mn\u001b[0m\u001b[1;33m]\u001b[0m\u001b[1;33m)\u001b[0m \u001b[1;32mfor\u001b[0m \u001b[0mn\u001b[0m \u001b[1;32min\u001b[0m \u001b[0mrange\u001b[0m\u001b[1;33m(\u001b[0m\u001b[0mlen\u001b[0m\u001b[1;33m(\u001b[0m\u001b[0mx\u001b[0m\u001b[1;33m)\u001b[0m\u001b[1;33m)\u001b[0m\u001b[1;33m]\u001b[0m\u001b[1;33m\u001b[0m\u001b[1;33m\u001b[0m\u001b[0m\n\u001b[0m\u001b[0;32m      3\u001b[0m \u001b[1;33m\u001b[0m\u001b[0m\n\u001b[0;32m      4\u001b[0m \u001b[0mx\u001b[0m \u001b[1;33m=\u001b[0m \u001b[1;33m[\u001b[0m\u001b[1;36m1\u001b[0m\u001b[1;33m,\u001b[0m\u001b[1;36m2\u001b[0m\u001b[1;33m,\u001b[0m\u001b[1;36m3\u001b[0m\u001b[1;33m,\u001b[0m\u001b[1;36m4\u001b[0m\u001b[1;33m]\u001b[0m\u001b[1;33m\u001b[0m\u001b[1;33m\u001b[0m\u001b[0m\n\u001b[0;32m      5\u001b[0m \u001b[0my\u001b[0m \u001b[1;33m=\u001b[0m \u001b[1;33m[\u001b[0m\u001b[1;34m'a'\u001b[0m\u001b[1;33m,\u001b[0m\u001b[1;34m'b'\u001b[0m\u001b[1;33m,\u001b[0m\u001b[1;34m'c'\u001b[0m\u001b[1;33m]\u001b[0m\u001b[1;33m\u001b[0m\u001b[1;33m\u001b[0m\u001b[0m\n",
      "\u001b[1;31mIndexError\u001b[0m: list index out of range"
     ]
    }
   ],
   "source": [
    "def zzip(x, y):\n",
    "    return [(x[n], y[n]) for n in range(len(x))]\n",
    "\n",
    "x = [1,2,3,4]\n",
    "y = ['a','b','c']\n",
    "\n",
    "zzip(x,y)"
   ]
  },
  {
   "cell_type": "markdown",
   "metadata": {},
   "source": [
    "#### Exercise 3.c: Change your function such that it does not produce an error, by restricting the range over which you zip, and test all three cases."
   ]
  },
  {
   "cell_type": "code",
   "execution_count": 52,
   "metadata": {},
   "outputs": [
    {
     "data": {
      "text/plain": [
       "[(1, 'a'), (2, 'b'), (3, 'c')]"
      ]
     },
     "execution_count": 52,
     "metadata": {},
     "output_type": "execute_result"
    }
   ],
   "source": [
    "def zzip(x, y):\n",
    "    if len(x) < len(y):\n",
    "        return [(x[n], y[n]) for n in range(len(x))]\n",
    "    else:\n",
    "        return [(x[n], y[n]) for n in range(len(y))]\n",
    "\n",
    "x = [1,2,3,4]\n",
    "y = ['a','b','c']\n",
    "\n",
    "zzip(x,y)"
   ]
  },
  {
   "cell_type": "markdown",
   "metadata": {},
   "source": [
    "### Exercise 4: Approximating the derivative"
   ]
  },
  {
   "cell_type": "markdown",
   "metadata": {},
   "source": [
    "The derivative of a function $f$ at a point $x$ is defined as\n",
    "$$f'(x)=\\lim_{h\\to0}\\frac{f(x+h)-f(x)}h\\;.$$\n",
    "We want to numerically study the quotient on the right-hand side as $h$ tends to zero."
   ]
  },
  {
   "cell_type": "markdown",
   "metadata": {},
   "source": [
    "#### Exercise 4.a: Using the function `g(f,x,h)` defined in the lecture, compute the difference quotient for $f(x)=x^2$ at $x=1$ for $h=10^{-n}$ with $n=1,2,\\ldots,17$. Explain what you observe. (It may be useful to remind yourself of the discussion of the precision of floating point integers from week 2. To how many significant digits is $f(x+h)-f(x)$ computed for a given $h=10^{-n}$?)"
   ]
  },
  {
   "cell_type": "code",
   "execution_count": 67,
   "metadata": {},
   "outputs": [
    {
     "data": {
      "text/plain": [
       "[2.100000000000002,\n",
       " 2.0100000000000007,\n",
       " 2.0009999999996975,\n",
       " 2.000099999999172,\n",
       " 2.00001000001393,\n",
       " 2.0000009999243673,\n",
       " 2.0000001010878066,\n",
       " 1.999999987845058,\n",
       " 2.000000165480742,\n",
       " 2.000000165480742,\n",
       " 2.000000165480742,\n",
       " 2.000177801164682,\n",
       " 1.9984014443252818,\n",
       " 1.9984014443252818,\n",
       " 2.220446049250313,\n",
       " 0.0,\n",
       " 0.0]"
      ]
     },
     "execution_count": 67,
     "metadata": {},
     "output_type": "execute_result"
    }
   ],
   "source": [
    "def g(f,x,h):\n",
    "    \"Compute the difference quotient for the function f at point x and x+h\"\n",
    "    return (f(x+h)-f(x))/h\n",
    "\n",
    "def f(x):\n",
    "    return x**2\n",
    "\n",
    "listt = []\n",
    "\n",
    "for n in range(1,18):\n",
    "    listt.append(g(f, 1, 10**(-n)))\n",
    "\n",
    "listt"
   ]
  },
  {
   "cell_type": "markdown",
   "metadata": {},
   "source": []
  },
  {
   "cell_type": "markdown",
   "metadata": {},
   "source": [
    "## Submit your Jupyter Notebook to QMPLUS"
   ]
  },
  {
   "cell_type": "markdown",
   "metadata": {},
   "source": [
    "Once you are done, save the jupyter notebook and submit it to QMPLUS under Lab Report Week 4."
   ]
  }
 ],
 "metadata": {
  "kernelspec": {
   "display_name": "Python 3",
   "language": "python",
   "name": "python3"
  },
  "language_info": {
   "codemirror_mode": {
    "name": "ipython",
    "version": 3
   },
   "file_extension": ".py",
   "mimetype": "text/x-python",
   "name": "python",
   "nbconvert_exporter": "python",
   "pygments_lexer": "ipython3",
   "version": "3.8.5"
  }
 },
 "nbformat": 4,
 "nbformat_minor": 2
}
